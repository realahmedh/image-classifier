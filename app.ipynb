{
 "cells": [
  {
   "cell_type": "code",
   "execution_count": 13,
   "metadata": {
    "collapsed": true,
    "ExecuteTime": {
     "end_time": "2023-06-09T18:20:15.029800700Z",
     "start_time": "2023-06-09T18:20:15.014179500Z"
    }
   },
   "outputs": [],
   "source": [
    "import tensorflow as tf\n",
    "from tensorflow import keras\n",
    "from keras import layers\n",
    "import numpy as np\n",
    "import matplotlib.pyplot as plt\n",
    "import os\n",
    "import pickle\n",
    "from PIL import Image"
   ]
  },
  {
   "cell_type": "markdown",
   "source": [
    "# Importing the dataset\n",
    "Note :\n",
    "- the dataset was in a folder called my_dataset"
   ],
   "metadata": {
    "collapsed": false
   }
  },
  {
   "cell_type": "code",
   "execution_count": 3,
   "outputs": [],
   "source": [
    "def unpickle(file):\n",
    "    # A function to unpickle the data files\n",
    "    with open(file, 'rb') as fo:\n",
    "        dict = pickle.load(fo, encoding='bytes')\n",
    "    return dict"
   ],
   "metadata": {
    "collapsed": false,
    "ExecuteTime": {
     "end_time": "2023-06-09T18:04:46.117690900Z",
     "start_time": "2023-06-09T18:04:46.082314100Z"
    }
   }
  },
  {
   "cell_type": "code",
   "execution_count": 4,
   "outputs": [],
   "source": [
    "# Define the folder path and the file names\n",
    "folder = 'my_dataset'\n",
    "files = ['data_batch_1', 'data_batch_2', 'data_batch_3', 'data_batch_4', 'data_batch_5']"
   ],
   "metadata": {
    "collapsed": false,
    "ExecuteTime": {
     "end_time": "2023-06-09T18:04:47.875523700Z",
     "start_time": "2023-06-09T18:04:47.850486400Z"
    }
   }
  },
  {
   "cell_type": "code",
   "execution_count": 5,
   "outputs": [],
   "source": [
    "# Initialize empty lists for images and labels\n",
    "images = []\n",
    "labels = []"
   ],
   "metadata": {
    "collapsed": false,
    "ExecuteTime": {
     "end_time": "2023-06-09T18:04:48.973986100Z",
     "start_time": "2023-06-09T18:04:48.947991700Z"
    }
   }
  },
  {
   "cell_type": "code",
   "execution_count": 6,
   "outputs": [],
   "source": [
    "# Loop through the files and append the images and labels to the lists\n",
    "for file in files:\n",
    "    # Unpickle the file and get the data and labels\n",
    "    data = unpickle(os.path.join(folder, file))\n",
    "    images.append(data[b'data'])\n",
    "    labels.append(data[b'labels'])"
   ],
   "metadata": {
    "collapsed": false,
    "ExecuteTime": {
     "end_time": "2023-06-09T18:04:52.761009800Z",
     "start_time": "2023-06-09T18:04:50.276329400Z"
    }
   }
  },
  {
   "cell_type": "code",
   "execution_count": 17,
   "outputs": [],
   "source": [
    "class_names = ['airplane', 'automobile', 'bird', 'cat', 'deer', 'dog', 'frog', 'horse', 'ship', 'truck']"
   ],
   "metadata": {
    "collapsed": false,
    "ExecuteTime": {
     "end_time": "2023-06-09T18:25:01.836210200Z",
     "start_time": "2023-06-09T18:25:01.804964Z"
    }
   }
  },
  {
   "cell_type": "markdown",
   "source": [
    "# Preprocessing the imported dataset"
   ],
   "metadata": {
    "collapsed": false
   }
  },
  {
   "cell_type": "code",
   "execution_count": 7,
   "outputs": [],
   "source": [
    "\n",
    "# Convert the lists to numpy arrays\n",
    "images = np.concatenate(images)\n",
    "labels = np.concatenate(labels)\n",
    "\n",
    "# Reshape the images to (32, 32, 3) format\n",
    "images = images.reshape(-1, 3, 32, 32).transpose(0, 2, 3, 1)\n",
    "\n",
    "# Normalize the images to have values between 0 and 1\n",
    "images = images / 255.0"
   ],
   "metadata": {
    "collapsed": false,
    "ExecuteTime": {
     "end_time": "2023-06-09T18:04:55.134758700Z",
     "start_time": "2023-06-09T18:04:53.746226800Z"
    }
   }
  },
  {
   "cell_type": "code",
   "execution_count": 8,
   "outputs": [],
   "source": [
    "\n",
    "# Split the data into training and validation sets\n",
    "train_images, val_images = images[:48000], images[48000:]\n",
    "train_labels, val_labels = labels[:48000], labels[48000:]\n"
   ],
   "metadata": {
    "collapsed": false,
    "ExecuteTime": {
     "end_time": "2023-06-09T18:04:56.076959Z",
     "start_time": "2023-06-09T18:04:56.058970500Z"
    }
   }
  },
  {
   "cell_type": "markdown",
   "source": [
    "# Training the model"
   ],
   "metadata": {
    "collapsed": false
   }
  },
  {
   "cell_type": "code",
   "execution_count": 9,
   "outputs": [],
   "source": [
    "\n",
    "# Define the model architecture using keras sequential API\n",
    "model = keras.Sequential([\n",
    "    # A convolutional layer with 32 filters, 3x3 kernel size, relu activation and input shape of (32, 32, 3)\n",
    "    layers.Conv2D(32, (3, 3), activation='relu', input_shape=(32, 32, 3)),\n",
    "    # A max pooling layer with 2x2 pool size\n",
    "    layers.MaxPooling2D((2, 2)),\n",
    "    # A convolutional layer with 64 filters, 3x3 kernel size and relu activation\n",
    "    layers.Conv2D(64, (3, 3), activation='relu'),\n",
    "    # A max pooling layer with 2x2 pool size\n",
    "    layers.MaxPooling2D((2, 2)),\n",
    "    # A convolutional layer with 64 filters, 3x3 kernel size and relu activation\n",
    "    layers.Conv2D(64, (3, 3), activation='relu'),\n",
    "    # A flatten layer to convert the output to a 1D vector\n",
    "    layers.Flatten(),\n",
    "    # A dense layer with 64 units and relu activation\n",
    "    layers.Dense(64, activation='relu'),\n",
    "    # A dense layer with 10 units and softmax activation for the output\n",
    "    layers.Dense(10, activation='softmax')\n",
    "])"
   ],
   "metadata": {
    "collapsed": false,
    "ExecuteTime": {
     "end_time": "2023-06-09T18:04:59.123630600Z",
     "start_time": "2023-06-09T18:04:58.325565100Z"
    }
   }
  },
  {
   "cell_type": "code",
   "execution_count": 10,
   "outputs": [
    {
     "name": "stdout",
     "output_type": "stream",
     "text": [
      "Epoch 1/20\n",
      "750/750 [==============================] - 33s 41ms/step - loss: 1.6139 - accuracy: 0.4114 - val_loss: 1.3349 - val_accuracy: 0.5345\n",
      "Epoch 2/20\n",
      "750/750 [==============================] - 28s 38ms/step - loss: 1.2382 - accuracy: 0.5619 - val_loss: 1.1483 - val_accuracy: 0.6045\n",
      "Epoch 3/20\n",
      "750/750 [==============================] - 29s 38ms/step - loss: 1.0934 - accuracy: 0.6127 - val_loss: 1.0673 - val_accuracy: 0.6325\n",
      "Epoch 4/20\n",
      "750/750 [==============================] - 28s 38ms/step - loss: 0.9912 - accuracy: 0.6528 - val_loss: 1.0093 - val_accuracy: 0.6610\n",
      "Epoch 5/20\n",
      "750/750 [==============================] - 28s 37ms/step - loss: 0.9214 - accuracy: 0.6769 - val_loss: 0.9400 - val_accuracy: 0.6750\n",
      "Epoch 6/20\n",
      "750/750 [==============================] - 29s 38ms/step - loss: 0.8587 - accuracy: 0.6990 - val_loss: 0.9041 - val_accuracy: 0.6890\n",
      "Epoch 7/20\n",
      "750/750 [==============================] - 29s 39ms/step - loss: 0.8070 - accuracy: 0.7180 - val_loss: 0.8557 - val_accuracy: 0.7170\n",
      "Epoch 8/20\n",
      "750/750 [==============================] - 27s 37ms/step - loss: 0.7641 - accuracy: 0.7330 - val_loss: 0.8201 - val_accuracy: 0.7265\n",
      "Epoch 9/20\n",
      "750/750 [==============================] - 27s 37ms/step - loss: 0.7233 - accuracy: 0.7480 - val_loss: 0.8301 - val_accuracy: 0.7315\n",
      "Epoch 10/20\n",
      "750/750 [==============================] - 27s 36ms/step - loss: 0.6879 - accuracy: 0.7600 - val_loss: 0.8353 - val_accuracy: 0.7245\n",
      "Epoch 11/20\n",
      "750/750 [==============================] - 27s 36ms/step - loss: 0.6606 - accuracy: 0.7678 - val_loss: 0.8388 - val_accuracy: 0.7260\n",
      "Epoch 12/20\n",
      "750/750 [==============================] - 27s 36ms/step - loss: 0.6311 - accuracy: 0.7786 - val_loss: 0.8384 - val_accuracy: 0.7240\n",
      "Epoch 13/20\n",
      "750/750 [==============================] - 27s 36ms/step - loss: 0.6011 - accuracy: 0.7913 - val_loss: 0.7909 - val_accuracy: 0.7415\n",
      "Epoch 14/20\n",
      "750/750 [==============================] - 27s 36ms/step - loss: 0.5763 - accuracy: 0.7995 - val_loss: 0.8437 - val_accuracy: 0.7220\n",
      "Epoch 15/20\n",
      "750/750 [==============================] - 30s 40ms/step - loss: 0.5541 - accuracy: 0.8037 - val_loss: 0.8034 - val_accuracy: 0.7355\n",
      "Epoch 16/20\n",
      "750/750 [==============================] - 28s 38ms/step - loss: 0.5247 - accuracy: 0.8177 - val_loss: 0.7989 - val_accuracy: 0.7405\n",
      "Epoch 17/20\n",
      "750/750 [==============================] - 27s 36ms/step - loss: 0.5029 - accuracy: 0.8236 - val_loss: 0.8409 - val_accuracy: 0.7425\n",
      "Epoch 18/20\n",
      "750/750 [==============================] - 29s 39ms/step - loss: 0.4832 - accuracy: 0.8291 - val_loss: 0.8446 - val_accuracy: 0.7480\n",
      "Epoch 19/20\n",
      "750/750 [==============================] - 30s 40ms/step - loss: 0.4525 - accuracy: 0.8409 - val_loss: 0.9559 - val_accuracy: 0.7175\n",
      "Epoch 20/20\n",
      "750/750 [==============================] - 27s 37ms/step - loss: 0.4367 - accuracy: 0.8463 - val_loss: 0.8829 - val_accuracy: 0.7385\n"
     ]
    }
   ],
   "source": [
    "\n",
    "# Compile the model using adam optimizer, sparse categorical crossentropy loss and accuracy metric\n",
    "model.compile(optimizer='adam', loss='sparse_categorical_crossentropy', metrics=['accuracy'])\n",
    "\n",
    "# Train the model using the training set\n",
    "history = model.fit(train_images, train_labels, batch_size=64, epochs=20, validation_data=(val_images, val_labels))"
   ],
   "metadata": {
    "collapsed": false,
    "ExecuteTime": {
     "end_time": "2023-06-09T18:14:30.284102Z",
     "start_time": "2023-06-09T18:05:01.889275800Z"
    }
   }
  },
  {
   "cell_type": "markdown",
   "source": [
    "# Plot the training and validation accuracy and loss curves"
   ],
   "metadata": {
    "collapsed": false
   }
  },
  {
   "cell_type": "code",
   "execution_count": 11,
   "outputs": [
    {
     "data": {
      "text/plain": "<Figure size 864x432 with 2 Axes>",
      "image/png": "[encoded data removed]"
     },
     "metadata": {
      "needs_background": "light"
     },
     "output_type": "display_data"
    }
   ],
   "source": [
    "\n",
    "plt.figure(figsize=(12, 6))\n",
    "plt.subplot(1, 2, 1)\n",
    "plt.plot(history.history['accuracy'], label='training accuracy')\n",
    "plt.plot(history.history['val_accuracy'], label='validation accuracy')\n",
    "plt.xlabel('epoch')\n",
    "plt.ylabel('accuracy')\n",
    "plt.legend()\n",
    "plt.subplot(1, 2, 2)\n",
    "plt.plot(history.history['loss'], label='training loss')\n",
    "plt.plot(history.history['val_loss'], label='validation loss')\n",
    "plt.xlabel('epoch')\n",
    "plt.ylabel('loss')\n",
    "plt.legend()\n",
    "plt.show()"
   ],
   "metadata": {
    "collapsed": false,
    "ExecuteTime": {
     "end_time": "2023-06-09T18:15:22.143033100Z",
     "start_time": "2023-06-09T18:15:20.858459800Z"
    }
   }
  },
  {
   "cell_type": "markdown",
   "source": [
    "# Evaluating the model"
   ],
   "metadata": {
    "collapsed": false
   }
  },
  {
   "cell_type": "code",
   "execution_count": 12,
   "outputs": [
    {
     "name": "stdout",
     "output_type": "stream",
     "text": [
      "63/63 [==============================] - 1s 9ms/step - loss: 0.8829 - accuracy: 0.7385\n",
      "Validation loss: 0.8829\n",
      "Validation accuracy: 0.7385\n"
     ]
    }
   ],
   "source": [
    "\n",
    "# Evaluate the model using the validation set\n",
    "val_loss, val_acc = model.evaluate(val_images, val_labels)\n",
    "print(f'Validation loss: {val_loss:.4f}')\n",
    "print(f'Validation accuracy: {val_acc:.4f}')\n"
   ],
   "metadata": {
    "collapsed": false,
    "ExecuteTime": {
     "end_time": "2023-06-09T18:15:26.756545Z",
     "start_time": "2023-06-09T18:15:26.030775100Z"
    }
   }
  },
  {
   "cell_type": "markdown",
   "source": [
    "# Testing the model on a New Photo"
   ],
   "metadata": {
    "collapsed": false
   }
  },
  {
   "cell_type": "code",
   "execution_count": 28,
   "outputs": [],
   "source": [
    "\n",
    "\n",
    "# Load the image file\n",
    "image = Image.open('testing-image.jpg')\n",
    "\n",
    "# Resize the image to (32, 32)\n",
    "image = image.resize((32, 32))\n",
    "\n",
    "# Convert the image to a numpy array\n",
    "image_array = np.array(image)\n",
    "\n",
    "# Reshape the image to (1, 32, 32, 3) format\n",
    "image_array = image_array.reshape(1, 32, 32, 3)\n",
    "\n",
    "# Normalize the image to have values between 0 and 1\n",
    "image_array = image_array / 255.0"
   ],
   "metadata": {
    "collapsed": false,
    "ExecuteTime": {
     "end_time": "2023-06-09T18:32:47.395954800Z",
     "start_time": "2023-06-09T18:32:47.379941600Z"
    }
   }
  },
  {
   "cell_type": "code",
   "execution_count": 29,
   "outputs": [
    {
     "name": "stdout",
     "output_type": "stream",
     "text": [
      "1/1 [==============================] - 0s 22ms/step\n",
      "Predicted class: airplane, Probability: 0.8113\n"
     ]
    },
    {
     "data": {
      "text/plain": "<Figure size 432x288 with 1 Axes>",
      "image/png": "[encoded data removed]"
     },
     "metadata": {
      "needs_background": "light"
     },
     "output_type": "display_data"
    }
   ],
   "source": [
    "# Get the predicted class probabilities\n",
    "probs = model.predict(image_array)[0]\n",
    "\n",
    "# Get the index of the highest probability class\n",
    "predicted_class = np.argmax(probs)\n",
    "\n",
    "# Get the name of the predicted class\n",
    "class_name = class_names[predicted_class]\n",
    "\n",
    "# Print the predicted class and its probability\n",
    "print(f'Predicted class: {class_name}, Probability: {probs[predicted_class]:.4f}')\n",
    "\n",
    "# Display the image and the predicted class\n",
    "plt.imshow(image)\n",
    "plt.axis('off')\n",
    "plt.title(f'Predicted class: {class_name}, Probability: {probs[predicted_class]:.4f}')\n",
    "plt.show()"
   ],
   "metadata": {
    "collapsed": false,
    "ExecuteTime": {
     "end_time": "2023-06-09T18:32:49.839375200Z",
     "start_time": "2023-06-09T18:32:49.532114100Z"
    }
   }
  },
  {
   "cell_type": "markdown",
   "source": [
    "# Saving the model\n",
    "Saving the model using PKL lib in '.h5' format so it can be used again in doing Predictions or even a web app"
   ],
   "metadata": {
    "collapsed": false
   }
  },
  {
   "cell_type": "code",
   "execution_count": 16,
   "outputs": [],
   "source": [
    "# Save the model to a file\n",
    "model.save('my_model.h5')"
   ],
   "metadata": {
    "collapsed": false,
    "ExecuteTime": {
     "end_time": "2023-06-09T18:22:41.216631400Z",
     "start_time": "2023-06-09T18:22:41.122498600Z"
    }
   }
  }
 ],
 "metadata": {
  "kernelspec": {
   "display_name": "Python 3",
   "language": "python",
   "name": "python3"
  },
  "language_info": {
   "codemirror_mode": {
    "name": "ipython",
    "version": 2
   },
   "file_extension": ".py",
   "mimetype": "text/x-python",
   "name": "python",
   "nbconvert_exporter": "python",
   "pygments_lexer": "ipython2",
   "version": "2.7.6"
  }
 },
 "nbformat": 4,
 "nbformat_minor": 0
}
