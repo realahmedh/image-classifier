{
 "cells": [
  {
   "cell_type": "markdown",
   "id": "528c92f2-4d14-4472-ba6b-7400544c4086",
   "metadata": {
    "tags": []
   },
   "source": [
    "# Creating & Training the Model"
   ]
  },
  {
   "cell_type": "code",
   "execution_count": 2,
   "id": "9a56ddf6-d550-498e-99b9-b0a4726d9fdb",
   "metadata": {
    "scrolled": true,
    "tags": []
   },
   "outputs": [],
   "source": [
    "import pickle\n",
    "import numpy as np\n",
    "import tensorflow as tf\n",
    "import keras"
   ]
  },
  {
   "cell_type": "code",
   "execution_count": null,
   "id": "5233a4cc-d5d0-4f7e-8734-f9e90c870c2b",
   "metadata": {},
   "outputs": [],
   "source": [
    "def load_batch(filename):\n",
    "    with open(filename, 'rb') as f:\n",
    "        data = pickle.load(f, encoding='latin1')\n",
    "        X = data['data']\n",
    "        Y = data['labels']\n",
    "        X = X.reshape(10000, 3, 32, 32).transpose(0, 2, 3, 1).astype(\"float\")\n",
    "        Y = np.array(Y)\n",
    "        return X, Y\n",
    "\n"
   ]
  },
  {
   "cell_type": "code",
   "execution_count": null,
   "id": "6a3d531c-3544-4956-8f9d-5c8a159f12b1",
   "metadata": {},
   "outputs": [],
   "source": [
    "def load_dataset(root):\n",
    "    xs = []\n",
    "    ys = []\n",
    "    for i in range(1, 6):\n",
    "        filename = f'{root}/data_batch_{i}'\n",
    "        X, Y = load_batch(filename)\n",
    "        xs.append(X)\n",
    "        ys.append(Y)\n",
    "    Xtr = np.concatenate(xs)\n",
    "    Ytr = np.concatenate(ys)\n",
    "    del X, Y\n",
    "    Xte, Yte = load_batch(f'{root}/test_batch')\n",
    "    return Xtr, Ytr, Xte, Yte\n",
    "\n"
   ]
  },
  {
   "cell_type": "code",
   "execution_count": null,
   "id": "10484cce-7b1c-4a8c-bca8-9c9609b17ed2",
   "metadata": {},
   "outputs": [],
   "source": [
    "Xtr, Ytr, Xte, Yte = load_dataset('my_dataset')\n",
    "\n"
   ]
  },
  {
   "cell_type": "code",
   "execution_count": null,
   "id": "0882a29c-3b03-4f6b-b6f5-94b4df75ee6e",
   "metadata": {},
   "outputs": [],
   "source": [
    "# Normalize the data\n",
    "Xtr = Xtr / 255.0\n",
    "Xte = Xte / 255.0\n"
   ]
  },
  {
   "cell_type": "code",
   "execution_count": null,
   "id": "3f5de76f-0a97-4dee-bbad-27a293fcbf8b",
   "metadata": {},
   "outputs": [],
   "source": [
    "# One-hot encode the labels\n",
    "num_classes = 10\n",
    "Ytr = np.eye(num_classes)[Ytr.reshape(-1)]\n",
    "Yte = np.eye(num_classes)[Yte.reshape(-1)]\n"
   ]
  },
  {
   "cell_type": "code",
   "execution_count": null,
   "id": "e7e16f21-1889-4299-8d55-b4791d283538",
   "metadata": {},
   "outputs": [],
   "source": [
    "# Define the model\n",
    "model = tf.keras.Sequential()\n",
    "model.add(tf.keras.layers.Flatten(input_shape=(32, 32, 3)))\n",
    "model.add(tf.keras.layers.Dense(128, activation='relu'))\n",
    "model.add(tf.keras.layers.Dense(10, activation='softmax'))\n"
   ]
  },
  {
   "cell_type": "code",
   "execution_count": 29,
   "id": "5131d857-bc84-44a3-929d-3b11c2fff185",
   "metadata": {},
   "outputs": [],
   "source": [
    "# Compile the model\n",
    "model.compile(optimizer='adam', loss='categorical_crossentropy', metrics=['accuracy'])\n"
   ]
  },
  {
   "cell_type": "code",
   "execution_count": 39,
   "id": "87aeb4e7-706b-4de7-8e57-052691a27024",
   "metadata": {},
   "outputs": [
    {
     "name": "stdout",
     "output_type": "stream",
     "text": [
      "Epoch 1/10\n",
      "1563/1563 [==============================] - 8s 5ms/step - loss: 1.9032 - accuracy: 0.3197\n",
      "Epoch 2/10\n",
      "1563/1563 [==============================] - 8s 5ms/step - loss: 1.7510 - accuracy: 0.3732\n",
      "Epoch 3/10\n",
      "1563/1563 [==============================] - 8s 5ms/step - loss: 1.6980 - accuracy: 0.3926\n",
      "Epoch 4/10\n",
      "1563/1563 [==============================] - 8s 5ms/step - loss: 1.6675 - accuracy: 0.4020\n",
      "Epoch 5/10\n",
      "1563/1563 [==============================] - 8s 5ms/step - loss: 1.6437 - accuracy: 0.4146\n",
      "Epoch 6/10\n",
      "1563/1563 [==============================] - 8s 5ms/step - loss: 1.6239 - accuracy: 0.4202\n",
      "Epoch 7/10\n",
      "1563/1563 [==============================] - 8s 5ms/step - loss: 1.6137 - accuracy: 0.4241\n",
      "Epoch 8/10\n",
      "1563/1563 [==============================] - 8s 5ms/step - loss: 1.6004 - accuracy: 0.4265\n",
      "Epoch 9/10\n",
      "1563/1563 [==============================] - 8s 5ms/step - loss: 1.5908 - accuracy: 0.4328\n",
      "Epoch 10/10\n",
      "1563/1563 [==============================] - 8s 5ms/step - loss: 1.5838 - accuracy: 0.4347\n"
     ]
    },
    {
     "data": {
      "text/plain": [
       "<keras.callbacks.History at 0x29c0d283af0>"
      ]
     },
     "execution_count": 39,
     "metadata": {},
     "output_type": "execute_result"
    }
   ],
   "source": [
    "# Train the model\n",
    "model.fit(Xtr, Ytr, epochs=10, batch_size=32)\n"
   ]
  },
  {
   "cell_type": "code",
   "execution_count": 12,
   "id": "f00e1fdb-27dd-46ac-9db3-04f67da0fcc0",
   "metadata": {},
   "outputs": [
    {
     "name": "stdout",
     "output_type": "stream",
     "text": [
      "313/313 [==============================] - 1s 1ms/step - loss: 2.7797 - accuracy: 0.1011\n",
      "Test accuracy: 0.10109999775886536\n"
     ]
    }
   ],
   "source": [
    "# Evaluate the model on the test data\n",
    "test_loss, test_acc = model.evaluate(Xte, Yte)\n",
    "print('Test accuracy:', test_acc)\n"
   ]
  },
  {
   "cell_type": "code",
   "execution_count": 13,
   "id": "e29f9b98-c045-4146-b854-0cf388fc2ca3",
   "metadata": {},
   "outputs": [
    {
     "name": "stdout",
     "output_type": "stream",
     "text": [
      "313/313 [==============================] - 0s 1ms/step\n"
     ]
    }
   ],
   "source": [
    "# Make predictions on new data\n",
    "predictions = model.predict(Xte)\n"
   ]
  },
  {
   "cell_type": "code",
   "execution_count": 14,
   "id": "ebdc59e8-0ebe-4182-81d7-ea7c14aa609c",
   "metadata": {},
   "outputs": [],
   "source": [
    "# Save the model\n",
    "model.save('model.h5')\n"
   ]
  },
  {
   "cell_type": "markdown",
   "id": "1963cf34-bb45-45ba-ac79-03f60f3c6bd0",
   "metadata": {
    "tags": []
   },
   "source": [
    "# Predict"
   ]
  },
  {
   "cell_type": "code",
   "execution_count": 30,
   "id": "3b06d43e-6cc8-47a7-97ba-5c4a9187a2cc",
   "metadata": {},
   "outputs": [
    {
     "name": "stdout",
     "output_type": "stream",
     "text": [
      "313/313 [==============================] - 1s 2ms/step\n"
     ]
    }
   ],
   "source": [
    "# Load a saved model\n",
    "loaded_model = keras.models.load_model('model.h5')\n",
    "\n",
    "# Make predictions with the loaded model\n",
    "loaded_predictions = loaded_model.predict(Xte)"
   ]
  },
  {
   "cell_type": "code",
   "execution_count": 31,
   "id": "f721b45f-cf9b-4e25-86e9-78fc8cf31eff",
   "metadata": {},
   "outputs": [],
   "source": [
    "# Check if the predictions from the saved model match the original predictions\n",
    "assert np.allclose(predictions, loaded_predictions)"
   ]
  },
  {
   "cell_type": "markdown",
   "id": "299ab489-1407-48d8-b471-1bd0b4852df6",
   "metadata": {
    "tags": []
   },
   "source": [
    "# New Data Input"
   ]
  },
  {
   "cell_type": "code",
   "execution_count": null,
   "id": "36129ded-f56e-462a-9e0b-04b5bf848742",
   "metadata": {},
   "outputs": [],
   "source": [
    "# Load a saved model\n",
    "loaded_model = keras.models.load_model('model.h5')\n",
    "\n",
    "# Make predictions on new data\n",
    "new_data = ... # load your new data here\n",
    "predictions = loaded_model.predict(new_data)\n"
   ]
  }
 ],
 "metadata": {
  "kernelspec": {
   "display_name": "Python 3 (ipykernel)",
   "language": "python",
   "name": "python3"
  },
  "language_info": {
   "codemirror_mode": {
    "name": "ipython",
    "version": 3
   },
   "file_extension": ".py",
   "mimetype": "text/x-python",
   "name": "python",
   "nbconvert_exporter": "python",
   "pygments_lexer": "ipython3",
   "version": "3.9.13"
  }
 },
 "nbformat": 4,
 "nbformat_minor": 5
}
